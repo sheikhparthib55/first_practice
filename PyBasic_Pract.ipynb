{
  "cells": [
    {
      "cell_type": "markdown",
      "metadata": {
        "id": "view-in-github",
        "colab_type": "text"
      },
      "source": [
        "<a href=\"https://colab.research.google.com/github/sheikhparthib55/first_practice/blob/main/PyBasic_Pract.ipynb\" target=\"_parent\"><img src=\"https://colab.research.google.com/assets/colab-badge.svg\" alt=\"Open In Colab\"/></a>"
      ]
    },
    {
      "cell_type": "markdown",
      "metadata": {
        "id": "0k5UWdAlPbbD"
      },
      "source": [
        "# **Day_01**"
      ]
    },
    {
      "cell_type": "code",
      "execution_count": null,
      "metadata": {
        "colab": {
          "base_uri": "https://localhost:8080/"
        },
        "collapsed": true,
        "id": "2rD7bsrIP2B6",
        "outputId": "a8df0299-ab5b-4439-84a1-874f21af7e57"
      },
      "outputs": [
        {
          "name": "stdout",
          "output_type": "stream",
          "text": [
            "Hello world!\n",
            "My journey as a Python programmer, I am feeling very glad to share.\n"
          ]
        }
      ],
      "source": [
        "print(\"Hello world!\")\n",
        "print(\"My journey as a Python programmer, I am feeling very glad to share.\")"
      ]
    },
    {
      "cell_type": "markdown",
      "metadata": {
        "id": "ccBYXIznSysv"
      },
      "source": [
        "How to comment"
      ]
    },
    {
      "cell_type": "code",
      "execution_count": null,
      "metadata": {
        "id": "ObB4KaQdRupA"
      },
      "outputs": [],
      "source": [
        "#As a student of Urban Development Dept I want to become an data analyst to provide accurate data overview to build the most livable city."
      ]
    },
    {
      "cell_type": "markdown",
      "metadata": {
        "id": "e0mE7z30S7j6"
      },
      "source": [
        "Variables"
      ]
    },
    {
      "cell_type": "code",
      "execution_count": null,
      "metadata": {
        "colab": {
          "base_uri": "https://localhost:8080/"
        },
        "id": "nt4S2X5aS2e0",
        "outputId": "071c96c2-aed1-4ba8-daaa-69cac47102c1"
      },
      "outputs": [
        {
          "name": "stdout",
          "output_type": "stream",
          "text": [
            "Saiham Kasem Parthib\n",
            "<class 'str'>\n"
          ]
        }
      ],
      "source": [
        "name=\"Saiham Kasem Parthib\"\n",
        "print(name)\n",
        "print(type(name))"
      ]
    },
    {
      "cell_type": "code",
      "execution_count": null,
      "metadata": {
        "colab": {
          "base_uri": "https://localhost:8080/"
        },
        "id": "kP6gjWRuUDCE",
        "outputId": "91f174ef-81fa-4c63-e25a-6dce18c54bb9"
      },
      "outputs": [
        {
          "name": "stdout",
          "output_type": "stream",
          "text": [
            "name\n",
            "name\n"
          ]
        }
      ],
      "source": [
        "saiham=kasem=parthib=\"name\"\n",
        "print(saiham)\n",
        "print(kasem)"
      ]
    },
    {
      "cell_type": "markdown",
      "metadata": {
        "id": "ZmF9puMkUeXk"
      },
      "source": [
        "Let's unpack variables"
      ]
    },
    {
      "cell_type": "code",
      "execution_count": null,
      "metadata": {
        "colab": {
          "base_uri": "https://localhost:8080/"
        },
        "id": "LjDrOl37Udwj",
        "outputId": "d8c76912-844b-4d85-8054-dafc12a77714"
      },
      "outputs": [
        {
          "name": "stdout",
          "output_type": "stream",
          "text": [
            "saiham\n",
            "kasem\n",
            "Parthib\n"
          ]
        }
      ],
      "source": [
        "name=(\"saiham\",\"kasem\",\"Parthib\")\n",
        "a,b,c=name\n",
        "print(a)\n",
        "print(b)\n",
        "print(c)"
      ]
    },
    {
      "cell_type": "code",
      "execution_count": null,
      "metadata": {
        "colab": {
          "base_uri": "https://localhost:8080/"
        },
        "id": "S9OIMgjvVKP7",
        "outputId": "b2ad7f6c-9e9d-4db6-d68f-7b024201a5ee"
      },
      "outputs": [
        {
          "name": "stdout",
          "output_type": "stream",
          "text": [
            "saiham kasem parthib\n",
            "saihamkasemparthib\n"
          ]
        }
      ],
      "source": [
        "a=\"saiham\"\n",
        "b=\"kasem\"\n",
        "c=\"parthib\"\n",
        "print(a,b,c)\n",
        "#we can also use-\n",
        "print(a+b+c)"
      ]
    },
    {
      "cell_type": "markdown",
      "metadata": {
        "id": "xHsy1_YDV7Mf"
      },
      "source": [
        "Global variable\n",
        "\n"
      ]
    },
    {
      "cell_type": "code",
      "execution_count": null,
      "metadata": {
        "id": "4a9sTxeHWGwW"
      },
      "outputs": [],
      "source": [
        "#Variables that are created outside of a function (as in all of the examples in the previous pages) are known as global variables."
      ]
    },
    {
      "cell_type": "code",
      "execution_count": null,
      "metadata": {
        "colab": {
          "base_uri": "https://localhost:8080/"
        },
        "id": "svhbvZxjWYcS",
        "outputId": "7f9fae61-5832-41bb-acde-facc9568fcde"
      },
      "outputs": [
        {
          "name": "stdout",
          "output_type": "stream",
          "text": [
            "My name is Parthib\n"
          ]
        }
      ],
      "source": [
        "Name=\"Parthib\"\n",
        "def myfunc():\n",
        "  print(\"My name is\", Name)\n",
        "myfunc()"
      ]
    },
    {
      "cell_type": "code",
      "execution_count": null,
      "metadata": {
        "colab": {
          "base_uri": "https://localhost:8080/"
        },
        "id": "uJfrvHwlW9SG",
        "outputId": "7eb7c6e6-70a8-4584-b749-e671049e4d00"
      },
      "outputs": [
        {
          "name": "stdout",
          "output_type": "stream",
          "text": [
            "My name is Saiham\n",
            "My name is Partib\n"
          ]
        }
      ],
      "source": [
        "name = \"Partib\"\n",
        "\n",
        "def myfunc():\n",
        "  name = \"Saiham\"\n",
        "  print(\"My name is \" + name)\n",
        "\n",
        "myfunc()\n",
        "\n",
        "print(\"My name is \" + name)"
      ]
    },
    {
      "cell_type": "code",
      "execution_count": null,
      "metadata": {
        "colab": {
          "base_uri": "https://localhost:8080/"
        },
        "id": "9ntwJR8tYU9Q",
        "outputId": "4cf151b8-116a-4104-8d01-032033254d95"
      },
      "outputs": [
        {
          "name": "stdout",
          "output_type": "stream",
          "text": [
            "Python is awesome\n"
          ]
        }
      ],
      "source": [
        "x = 'awesome'\n",
        "def myfunc():\n",
        "  x = 'fantastic'\n",
        "myfunc()\n",
        "print('Python is ' + x)"
      ]
    },
    {
      "cell_type": "markdown",
      "metadata": {
        "id": "TnQL4C5hIxZP"
      },
      "source": [
        "Data Type\n"
      ]
    },
    {
      "cell_type": "code",
      "execution_count": null,
      "metadata": {
        "colab": {
          "base_uri": "https://localhost:8080/"
        },
        "id": "h4_jgQPHIz7e",
        "outputId": "7026363a-4afb-4bc5-e426-5786661ecd2a"
      },
      "outputs": [
        {
          "name": "stdout",
          "output_type": "stream",
          "text": [
            "<class 'str'>\n",
            "<class 'int'>\n",
            "<class 'float'>\n",
            "<class 'complex'>\n",
            "<class 'bool'>\n"
          ]
        }
      ],
      "source": [
        "x=\"saiham\"\n",
        "print(type(x))\n",
        "x1=20\n",
        "print(type(x1))\n",
        "x2=20.45\n",
        "print(type(x2))\n",
        "x3=2j\n",
        "print(type(x3))\n",
        "x4=False\n",
        "print(type(x4))"
      ]
    },
    {
      "cell_type": "code",
      "execution_count": null,
      "metadata": {
        "colab": {
          "base_uri": "https://localhost:8080/"
        },
        "id": "Jjxnt0feKF0a",
        "outputId": "f36772d7-2f8e-4892-a1e1-1bb546039d3e"
      },
      "outputs": [
        {
          "name": "stdout",
          "output_type": "stream",
          "text": [
            "['saiham', 'kasem', 'parthib']\n",
            "('saiham', 'kasem', 'parthib')\n",
            "{'fname': 'saiham', 'midname': 'kasem', 'lname': 'parthib'}\n"
          ]
        }
      ],
      "source": [
        "xlist=[\"saiham\",\"kasem\",\"parthib\"]\n",
        "xtuple=(\"saiham\",\"kasem\",\"parthib\")\n",
        "xdict={\"fname\":\"saiham\",\"midname\":\"kasem\",\"lname\":\"parthib\"}\n",
        "print(xlist)\n",
        "print(xtuple)\n",
        "print(xdict)"
      ]
    },
    {
      "cell_type": "code",
      "execution_count": null,
      "metadata": {
        "colab": {
          "base_uri": "https://localhost:8080/"
        },
        "id": "uIQP_7d1LNmP",
        "outputId": "d52c6d0d-a069-462d-a2e6-89c26f1d2e7c"
      },
      "outputs": [
        {
          "name": "stdout",
          "output_type": "stream",
          "text": [
            "['saiham', 'kasem', 'parthib']\n",
            "{'parthib', 'kasem', 'saiham'}\n"
          ]
        }
      ],
      "source": [
        "#turn into another form\n",
        "xtuple=list((\"saiham\",\"kasem\",\"parthib\"))\n",
        "print(xtuple)\n",
        "xlist=set([\"saiham\",\"kasem\",\"parthib\"])\n",
        "print(xlist)"
      ]
    },
    {
      "cell_type": "code",
      "execution_count": null,
      "metadata": {
        "colab": {
          "base_uri": "https://localhost:8080/"
        },
        "id": "Igq1gXnlL27b",
        "outputId": "5ca02c28-63ef-45b9-b58d-b5c3856ea380"
      },
      "outputs": [
        {
          "name": "stdout",
          "output_type": "stream",
          "text": [
            "5\n"
          ]
        }
      ],
      "source": [
        "import random\n",
        "print(random.randrange(1,20))"
      ]
    },
    {
      "cell_type": "markdown",
      "metadata": {
        "id": "6bRPpjr9MR0w"
      },
      "source": [
        "Type casting"
      ]
    },
    {
      "cell_type": "code",
      "execution_count": null,
      "metadata": {
        "colab": {
          "base_uri": "https://localhost:8080/"
        },
        "id": "QEwvirbmMVKO",
        "outputId": "9df8056b-c036-43eb-dfe7-0fa193f7f044"
      },
      "outputs": [
        {
          "name": "stdout",
          "output_type": "stream",
          "text": [
            "3\n",
            "8.0\n",
            "3\n"
          ]
        }
      ],
      "source": [
        "x=int(3.7)\n",
        "print(x)\n",
        "x1=float(8)\n",
        "print(x1)\n",
        "x2=str(3)\n",
        "print(x2)"
      ]
    },
    {
      "cell_type": "markdown",
      "metadata": {
        "id": "JKXXLsftNWkR"
      },
      "source": [
        "Python String"
      ]
    },
    {
      "cell_type": "code",
      "execution_count": null,
      "metadata": {
        "colab": {
          "base_uri": "https://localhost:8080/"
        },
        "id": "Kh2ulyGhNZl7",
        "outputId": "c8c78e7e-63bb-4a24-eb55-7759462778c3"
      },
      "outputs": [
        {
          "name": "stdout",
          "output_type": "stream",
          "text": [
            "saiham,\n",
            "kasem, \n",
            "parthib\n"
          ]
        }
      ],
      "source": [
        "x=\"\"\"saiham,\n",
        "kasem,\n",
        "parthib\"\"\"\n",
        "print(x)"
      ]
    },
    {
      "cell_type": "code",
      "execution_count": null,
      "metadata": {
        "colab": {
          "base_uri": "https://localhost:8080/"
        },
        "id": "yAa2E0WvGi8m",
        "outputId": "6d619d0d-f204-41c5-b5bf-e1668ec2664e"
      },
      "outputs": [
        {
          "name": "stdout",
          "output_type": "stream",
          "text": [
            "K\n"
          ]
        }
      ],
      "source": [
        "x= \"Saiham Kasem Parthib\"\n",
        "print(x[7])"
      ]
    },
    {
      "cell_type": "code",
      "execution_count": null,
      "metadata": {
        "colab": {
          "base_uri": "https://localhost:8080/"
        },
        "id": "RHK8BQCrG01F",
        "outputId": "12219f3e-12b4-491e-e799-d95335f957b3"
      },
      "outputs": [
        {
          "name": "stdout",
          "output_type": "stream",
          "text": [
            "p\n",
            "a\n",
            "r\n",
            "t\n",
            "h\n",
            "i\n",
            "b\n"
          ]
        }
      ],
      "source": [
        "for x in \"parthib\":\n",
        "  print(x)"
      ]
    },
    {
      "cell_type": "code",
      "execution_count": null,
      "metadata": {
        "colab": {
          "base_uri": "https://localhost:8080/"
        },
        "id": "W3I_DZjdHCsM",
        "outputId": "98cd7c22-a592-4fc3-b673-9d7ca74fa5ea"
      },
      "outputs": [
        {
          "name": "stdout",
          "output_type": "stream",
          "text": [
            "7\n"
          ]
        }
      ],
      "source": [
        "print(len(\"parthib\"))"
      ]
    },
    {
      "cell_type": "code",
      "execution_count": null,
      "metadata": {
        "colab": {
          "base_uri": "https://localhost:8080/"
        },
        "id": "Ade4LJj6HNCp",
        "outputId": "0c21e2e1-8b91-4526-bc34-1c36c173d6b9"
      },
      "outputs": [
        {
          "name": "stdout",
          "output_type": "stream",
          "text": [
            "yes, it is.\n"
          ]
        }
      ],
      "source": [
        "name=\"saiham kasem parthib\"\n",
        "if \"saiham\"  in name:\n",
        "  print(\"yes, it is.\")"
      ]
    },
    {
      "cell_type": "code",
      "execution_count": null,
      "metadata": {
        "colab": {
          "base_uri": "https://localhost:8080/"
        },
        "id": "-CXdoJPdHtBh",
        "outputId": "bfcf397e-06a0-4f3f-9892-5e2fccee7b18"
      },
      "outputs": [
        {
          "name": "stdout",
          "output_type": "stream",
          "text": [
            "nothing\n"
          ]
        }
      ],
      "source": [
        "name=\"saiham kasem parthib\"\n",
        "if \"saheikh\"not in name:\n",
        "   print(\"nothing\")"
      ]
    },
    {
      "cell_type": "code",
      "execution_count": null,
      "metadata": {
        "colab": {
          "base_uri": "https://localhost:8080/"
        },
        "id": "wp8pvx2EJFcx",
        "outputId": "981c0d88-f2c1-4d0d-dcfa-ec32a9bc608f"
      },
      "outputs": [
        {
          "name": "stdout",
          "output_type": "stream",
          "text": [
            "kasem\n"
          ]
        }
      ],
      "source": [
        "x=\"saiham kasem parthib\"\n",
        "print(x[7:12])"
      ]
    },
    {
      "cell_type": "code",
      "execution_count": null,
      "metadata": {
        "colab": {
          "base_uri": "https://localhost:8080/"
        },
        "id": "bTfwVOYTJbzl",
        "outputId": "384dbfb2-d9df-4cc9-afd7-e7c42190272b"
      },
      "outputs": [
        {
          "name": "stdout",
          "output_type": "stream",
          "text": [
            "iham kasem parthib\n"
          ]
        }
      ],
      "source": [
        "x=\"saiham kasem parthib\"\n",
        "print(x[2:])"
      ]
    },
    {
      "cell_type": "code",
      "execution_count": null,
      "metadata": {
        "colab": {
          "base_uri": "https://localhost:8080/"
        },
        "id": "jzq2qVBqJoks",
        "outputId": "832f367a-c3a7-48f3-8abd-ececffdf3126"
      },
      "outputs": [
        {
          "name": "stdout",
          "output_type": "stream",
          "text": [
            "SAIHAM KASEM PARTHIB\n"
          ]
        }
      ],
      "source": [
        "x=\"saiham kasem parthib\"\n",
        "print(x.upper())"
      ]
    },
    {
      "cell_type": "code",
      "execution_count": null,
      "metadata": {
        "colab": {
          "base_uri": "https://localhost:8080/"
        },
        "id": "utspZJ8YKAz6",
        "outputId": "0d635b23-2ff1-4e7a-9e2c-0c766e69a24c"
      },
      "outputs": [
        {
          "name": "stdout",
          "output_type": "stream",
          "text": [
            "kasem kasem parthib\n"
          ]
        }
      ],
      "source": [
        "x=\"saiham kasem parthib\"\n",
        "print(x.replace(\"saiham\", \"kasem\")) # Assuming the user wanted to replace \"saiham\" with \"kasem\". The original syntax `0;5,7;12` is not valid for string replacement in Python."
      ]
    },
    {
      "cell_type": "code",
      "execution_count": null,
      "metadata": {
        "colab": {
          "base_uri": "https://localhost:8080/"
        },
        "id": "pP8RFsE2K5mU",
        "outputId": "84e3d10c-52f3-433f-8a4e-b4e61af4bde8"
      },
      "outputs": [
        {
          "name": "stdout",
          "output_type": "stream",
          "text": [
            "saihamkasem\n",
            "saiham kasem\n"
          ]
        }
      ],
      "source": [
        "x=\"saiham\"\n",
        "y=\"kasem\"\n",
        "print(x+y)\n",
        "print(x+\" \"+y)"
      ]
    },
    {
      "cell_type": "code",
      "execution_count": null,
      "metadata": {
        "colab": {
          "base_uri": "https://localhost:8080/"
        },
        "id": "m_9Dak-5LZoY",
        "outputId": "735616d7-6b54-4a7d-da03-80f12c90e036"
      },
      "outputs": [
        {
          "name": "stdout",
          "output_type": "stream",
          "text": [
            "my name is Parthib, I am 25\n"
          ]
        }
      ],
      "source": [
        "age=25\n",
        "data=f\"my name is Parthib, I am {age}\"\n",
        "print(data)"
      ]
    },
    {
      "cell_type": "code",
      "execution_count": null,
      "metadata": {
        "colab": {
          "base_uri": "https://localhost:8080/"
        },
        "id": "sJA_4yvHL_qw",
        "outputId": "8e0344a3-d792-48d3-b203-e45041c10823"
      },
      "outputs": [
        {
          "name": "stdout",
          "output_type": "stream",
          "text": [
            "I am knowned as \"silent killer\" in my circle\n"
          ]
        }
      ],
      "source": [
        "x=\"I am knowned as \\\"silent killer\\\" in my circle\"\n",
        "print(x)"
      ]
    },
    {
      "cell_type": "code",
      "execution_count": null,
      "metadata": {
        "colab": {
          "base_uri": "https://localhost:8080/"
        },
        "id": "wTBbKdlVMiNn",
        "outputId": "17163b91-206b-488a-a6f4-2f659e3aabbf"
      },
      "outputs": [
        {
          "name": "stdout",
          "output_type": "stream",
          "text": [
            "True\n",
            "False\n"
          ]
        }
      ],
      "source": [
        "print(10>9)\n",
        "print(10<9)"
      ]
    },
    {
      "cell_type": "markdown",
      "metadata": {
        "id": "WmZ7Vhn34DlC"
      },
      "source": [
        "Python list"
      ]
    },
    {
      "cell_type": "code",
      "execution_count": null,
      "metadata": {
        "colab": {
          "base_uri": "https://localhost:8080/"
        },
        "id": "jqQuHM_FM-zQ",
        "outputId": "52f6b634-4a7b-4d24-d293-b226b129bfbf"
      },
      "outputs": [
        {
          "name": "stdout",
          "output_type": "stream",
          "text": [
            "['saiham', 'kasem', 'parthib']\n",
            "<class 'list'>\n",
            "parthib\n",
            "['saiham', 'kasem', 'parthib']\n",
            "yes, found this \n",
            "['saiham', 'kasem', 'parthib']\n",
            "['saiham', 'kasem', 'parthib', 'sheikh']\n",
            "['sheikh', 'saiham', 'kasem', 'parthib', 'sheikh']\n"
          ]
        }
      ],
      "source": [
        "name=[\"saiham\",\"kasem\",\"parthib\"]\n",
        "print(name)\n",
        "print(type(name))\n",
        "print(name[2])\n",
        "print(name[0:])\n",
        "if \"saiham\" in name:\n",
        "  print(\"yes, found this \")\n",
        "#name[0]=\"'saiham' is disappeared\"\n",
        "print(name)\n",
        "name.append(\"sheikh\")\n",
        "print(name)\n",
        "name.insert(0,\"sheikh\")\n",
        "print(name)"
      ]
    },
    {
      "cell_type": "code",
      "execution_count": null,
      "metadata": {
        "colab": {
          "base_uri": "https://localhost:8080/"
        },
        "id": "qtQoZ0wH7y_G",
        "outputId": "132e6115-9310-4d53-cf45-c61a3ff26549"
      },
      "outputs": [
        {
          "name": "stdout",
          "output_type": "stream",
          "text": [
            "['saiham', 'kasem', 'parthib', 'people also called me Mehedi']\n"
          ]
        }
      ],
      "source": [
        "name=[\"saiham\",\"kasem\",\"parthib\"]\n",
        "name1=[\"people also called me Mehedi\"]\n",
        "name.extend(name1)\n",
        "print(name)"
      ]
    },
    {
      "cell_type": "code",
      "execution_count": null,
      "metadata": {
        "colab": {
          "base_uri": "https://localhost:8080/"
        },
        "id": "WCLbmVXX8-Ar",
        "outputId": "2619de8c-468a-44df-fcd0-02a26837ef00"
      },
      "outputs": [
        {
          "name": "stdout",
          "output_type": "stream",
          "text": [
            "['mango', 'coconut', 'jackfruit', 'avocado', 'dragon']\n"
          ]
        }
      ],
      "source": [
        "list=[\"mango\",\"coconut\",\"jackfruit\"]\n",
        "tuple=(\"avocado\",\"dragon\")\n",
        "list.extend(tuple)\n",
        "print(list)"
      ]
    },
    {
      "cell_type": "code",
      "execution_count": null,
      "metadata": {
        "colab": {
          "base_uri": "https://localhost:8080/"
        },
        "id": "bBqtkjGT9vwk",
        "outputId": "bd7738c5-aad7-4f05-c443-a126f7207dab"
      },
      "outputs": [
        {
          "name": "stdout",
          "output_type": "stream",
          "text": [
            "mango\n"
          ]
        }
      ],
      "source": [
        "list=[\"mango\",\"coconut\",\"jackfruit\"]\n",
        "list.insert(0,\"lime\")\n",
        "print(list[1])"
      ]
    },
    {
      "cell_type": "code",
      "execution_count": null,
      "metadata": {
        "colab": {
          "base_uri": "https://localhost:8080/"
        },
        "id": "WkbICkqe-ZcC",
        "outputId": "634b1153-14a4-4d44-af45-c34966f5d1f7"
      },
      "outputs": [
        {
          "name": "stdout",
          "output_type": "stream",
          "text": [
            "['coconut', 'jackfruit']\n"
          ]
        }
      ],
      "source": [
        "list=[\"mango\",\"coconut\",\"jackfruit\"]\n",
        "list.remove(\"mango\")\n",
        "print(list)"
      ]
    },
    {
      "cell_type": "code",
      "execution_count": null,
      "metadata": {
        "colab": {
          "base_uri": "https://localhost:8080/"
        },
        "id": "9paFU7zk-8xf",
        "outputId": "94159154-ed6a-4c9f-e1ea-139e17ec5617"
      },
      "outputs": [
        {
          "name": "stdout",
          "output_type": "stream",
          "text": [
            "['mango', 'jackfruit']\n"
          ]
        }
      ],
      "source": [
        "list=[\"mango\",\"coconut\",\"jackfruit\"]\n",
        "list.pop(1)\n",
        "print(list)"
      ]
    },
    {
      "cell_type": "code",
      "execution_count": null,
      "metadata": {
        "id": "eksFIYn7_L-_"
      },
      "outputs": [],
      "source": [
        "list=[\"mango\",\"coconut\",\"jackfruit\"]\n",
        "del list"
      ]
    },
    {
      "cell_type": "code",
      "execution_count": null,
      "metadata": {
        "colab": {
          "base_uri": "https://localhost:8080/"
        },
        "id": "ghdsgV1J_PZ0",
        "outputId": "1d1c9e63-f44d-4289-f36d-264faf18fcaa"
      },
      "outputs": [
        {
          "name": "stdout",
          "output_type": "stream",
          "text": [
            "[]\n"
          ]
        }
      ],
      "source": [
        "list=[\"mango\",\"coconut\",\"jackfruit\"]\n",
        "list.clear()\n",
        "print(list)\n"
      ]
    },
    {
      "cell_type": "code",
      "execution_count": null,
      "metadata": {
        "colab": {
          "base_uri": "https://localhost:8080/"
        },
        "id": "UGER9-8H_pC1",
        "outputId": "3cd9e761-b419-4ea8-e1d0-a40967c60e1a"
      },
      "outputs": [
        {
          "name": "stdout",
          "output_type": "stream",
          "text": [
            "mango\n",
            "coconut\n",
            "jackfruit\n"
          ]
        }
      ],
      "source": [
        "list=[\"mango\",\"coconut\",\"jackfruit\"]\n",
        "for x in list:\n",
        "  print(x)"
      ]
    },
    {
      "cell_type": "code",
      "execution_count": null,
      "metadata": {
        "colab": {
          "base_uri": "https://localhost:8080/"
        },
        "id": "SW_N1VZMAULz",
        "outputId": "d09af039-8aaa-443c-d21b-db088a0555f6"
      },
      "outputs": [
        {
          "name": "stdout",
          "output_type": "stream",
          "text": [
            "3\n",
            "range(0, 3)\n"
          ]
        }
      ],
      "source": [
        "list=[\"mango\",\"coconut\",\"jackfruit\"]\n",
        "print(len(list))\n",
        "print(range(len(list)))"
      ]
    },
    {
      "cell_type": "code",
      "execution_count": null,
      "metadata": {
        "colab": {
          "base_uri": "https://localhost:8080/"
        },
        "id": "YnDIun8pA11F",
        "outputId": "6071d47c-e47b-4f0c-f3d6-815863cc9d1d"
      },
      "outputs": [
        {
          "name": "stdout",
          "output_type": "stream",
          "text": [
            "mango\n",
            "coconut\n",
            "jackfruit\n"
          ]
        }
      ],
      "source": [
        "list=[\"mango\",\"coconut\",\"jackfruit\"]\n",
        "i=0\n",
        "while i<len(list):\n",
        "  print(list[i])\n",
        "  i=i+1\n"
      ]
    },
    {
      "cell_type": "code",
      "execution_count": null,
      "metadata": {
        "colab": {
          "base_uri": "https://localhost:8080/"
        },
        "id": "gzOiSjGzBmIO",
        "outputId": "dda7f745-6c9e-4830-ec61-3bc0c211c265"
      },
      "outputs": [
        {
          "name": "stdout",
          "output_type": "stream",
          "text": [
            "mango\n"
          ]
        }
      ],
      "source": [
        "list=[\"mango\"]\n",
        "i=0\n",
        "while i<len(list):\n",
        "  print(list[i])\n",
        "  i=i+1"
      ]
    },
    {
      "cell_type": "code",
      "execution_count": null,
      "metadata": {
        "colab": {
          "base_uri": "https://localhost:8080/"
        },
        "id": "PW5dSKOMCvwg",
        "outputId": "9160096a-1fac-4f54-ace0-86d18c9f357a"
      },
      "outputs": [
        {
          "name": "stdout",
          "output_type": "stream",
          "text": [
            "['mango', 'coconut']\n"
          ]
        }
      ],
      "source": [
        "list=[\"mango\",\"coconut\",\"jackfruit\"]\n",
        "newlist=[x for x in list if \"n\" in x]\n",
        "print(newlist)"
      ]
    },
    {
      "cell_type": "code",
      "execution_count": null,
      "metadata": {
        "colab": {
          "base_uri": "https://localhost:8080/"
        },
        "id": "72wkweloDcDa",
        "outputId": "a6e85269-14cd-4b12-98e9-da4c9ea80391"
      },
      "outputs": [
        {
          "name": "stdout",
          "output_type": "stream",
          "text": [
            "[0, 1, 2, 3, 4, 5, 6, 7, 8, 9, 10]\n"
          ]
        }
      ],
      "source": [
        "new=[x for x in range(11)]\n",
        "print(new)"
      ]
    },
    {
      "cell_type": "code",
      "execution_count": null,
      "metadata": {
        "colab": {
          "base_uri": "https://localhost:8080/"
        },
        "id": "54Ms9_SyDq4o",
        "outputId": "e0830b53-23b3-4ad1-f007-9c793c7cc18a"
      },
      "outputs": [
        {
          "name": "stdout",
          "output_type": "stream",
          "text": [
            "['MANGO', 'COCONUT', 'JACKFRUIT']\n"
          ]
        }
      ],
      "source": [
        "list=[\"mango\",\"coconut\",\"jackfruit\"]\n",
        "new=[x.upper() for x in list]\n",
        "print(new)"
      ]
    },
    {
      "cell_type": "code",
      "execution_count": null,
      "metadata": {
        "colab": {
          "base_uri": "https://localhost:8080/"
        },
        "id": "mMNV2WUlERsz",
        "outputId": "87e1fa96-bc53-43c7-c43f-0e7d7cded921"
      },
      "outputs": [
        {
          "name": "stdout",
          "output_type": "stream",
          "text": [
            "['coconut', 'jackfruit', 'mango']\n",
            "['mango', 'jackfruit', 'coconut']\n"
          ]
        }
      ],
      "source": [
        "list=[\"mango\",\"coconut\",\"jackfruit\"]\n",
        "list.sort()\n",
        "print(list)\n",
        "list.sort(reverse=True)\n",
        "print(list)"
      ]
    },
    {
      "cell_type": "markdown",
      "metadata": {
        "id": "9R4Q8jGLYCxL"
      },
      "source": [
        "copy a list"
      ]
    },
    {
      "cell_type": "code",
      "execution_count": null,
      "metadata": {
        "colab": {
          "base_uri": "https://localhost:8080/"
        },
        "id": "ZNbrGl0OYFwF",
        "outputId": "86b741b3-a7ad-4fb1-b233-3053c8e1b42b"
      },
      "outputs": [
        {
          "name": "stdout",
          "output_type": "stream",
          "text": [
            "['mango', 'coconut', 'jackfruit']\n"
          ]
        }
      ],
      "source": [
        "list=[\"mango\",\"coconut\",\"jackfruit\"]\n",
        "#list2=list.copy()\n",
        "#list2=list[:]\n",
        "print(list2)"
      ]
    },
    {
      "cell_type": "code",
      "execution_count": null,
      "metadata": {
        "colab": {
          "base_uri": "https://localhost:8080/"
        },
        "id": "OPS1zqLcaHZv",
        "outputId": "854a55b4-1579-405f-d40f-ca111426a2a0"
      },
      "outputs": [
        {
          "name": "stdout",
          "output_type": "stream",
          "text": [
            "['sauiham', 'kasem', 'parthib']\n"
          ]
        }
      ],
      "source": [
        "l1=[\"sauiham\",\"kasem\"]\n",
        "l2=[\"parthib\"]\n",
        "#l=l1+l2\n",
        "#print(l)\n",
        "#for x in l1:\n",
        " # l2.append(x)\n",
        "  #print(l2)\n",
        "l1.extend(l2)\n",
        "print(l1)"
      ]
    },
    {
      "cell_type": "code",
      "execution_count": null,
      "metadata": {
        "colab": {
          "base_uri": "https://localhost:8080/"
        },
        "id": "w-IQaER9bgXS",
        "outputId": "eeeac919-0650-49fd-f421-115195272f54"
      },
      "outputs": [
        {
          "name": "stdout",
          "output_type": "stream",
          "text": [
            "('sauiham', 'kasem', 'parthib')\n",
            "3\n",
            "kasem\n",
            "sauiham\n",
            "('sauiham', 'kasem')\n",
            "here is ie\n"
          ]
        }
      ],
      "source": [
        "tup=('sauiham', 'kasem', 'parthib')\n",
        "print(tup)\n",
        "type(tup)\n",
        "#Tuple allows duplicate values\n",
        "print(len(tup))\n",
        "#Tuple items can be of any data type:\n",
        "tuple1 = (\"apple\", \"banana\", \"cherry\")\n",
        "tuple2 = (1, 5, 7, 9, 3)\n",
        "tuple3 = (True, False, False)\n",
        "print(tup[1])\n",
        "print(tup[0])\n",
        "print(tup[0:2])\n",
        "if \"sauiham\" in tup:\n",
        "  print(\"here is ie\")"
      ]
    },
    {
      "cell_type": "code",
      "execution_count": null,
      "metadata": {
        "colab": {
          "base_uri": "https://localhost:8080/"
        },
        "id": "sXwatuBndQRG",
        "outputId": "f6e7c636-ee2e-4e07-fe06-c8db9f31a028"
      },
      "outputs": [
        {
          "name": "stdout",
          "output_type": "stream",
          "text": [
            "('Md', 'kasem', 'parthib')\n"
          ]
        }
      ],
      "source": [
        "tup=('sauiham', 'kasem', 'parthib')\n",
        "x=list(tup)\n",
        "x[0]=\"Md\"\n",
        "tup=tuple(x)\n",
        "print(tup)"
      ]
    },
    {
      "cell_type": "code",
      "execution_count": null,
      "metadata": {
        "colab": {
          "base_uri": "https://localhost:8080/"
        },
        "id": "JHSXNB9XXofm",
        "outputId": "544ff40c-21b4-4ffe-d59c-6321648c9e23"
      },
      "outputs": [
        {
          "name": "stdout",
          "output_type": "stream",
          "text": [
            "['sauiham', 'kasem', 'parthib', 'md']\n"
          ]
        }
      ],
      "source": [
        "tup=('sauiham', 'kasem', 'parthib')\n",
        "x=list(tup)\n",
        "x.append(\"md\")\n",
        "tup=tuple(x)\n",
        "print(x)"
      ]
    },
    {
      "cell_type": "code",
      "execution_count": null,
      "metadata": {
        "id": "NaPKL3pPYMbJ"
      },
      "outputs": [],
      "source": [
        "# When creating a tuple with only one item, remember to include a comma after the item, otherwise it will not be identified as a tuple.\n",
        "#for example\n",
        "t=(\"sheikh\",)"
      ]
    },
    {
      "cell_type": "code",
      "execution_count": null,
      "metadata": {
        "colab": {
          "base_uri": "https://localhost:8080/"
        },
        "id": "ZGI6HOVxYaZY",
        "outputId": "c9e83523-352c-476e-f970-f856abc97460"
      },
      "outputs": [
        {
          "name": "stdout",
          "output_type": "stream",
          "text": [
            "['sauiham', 'parthib']\n"
          ]
        }
      ],
      "source": [
        "tup=('sauiham', 'kasem', 'parthib')\n",
        "x=list(tup)\n",
        "x.remove(\"kasem\")\n",
        "tup=tuple(x)\n",
        "print(x)"
      ]
    },
    {
      "cell_type": "code",
      "execution_count": null,
      "metadata": {
        "id": "Hfy0jBOtYvRg"
      },
      "outputs": [],
      "source": []
    },
    {
      "cell_type": "code",
      "execution_count": null,
      "metadata": {
        "colab": {
          "base_uri": "https://localhost:8080/"
        },
        "id": "6XzuiKSNZG-1",
        "outputId": "b26a6e36-a249-435d-dd56-c8d43f187144"
      },
      "outputs": [
        {
          "name": "stdout",
          "output_type": "stream",
          "text": [
            "sauiham\n",
            "kasem\n"
          ]
        }
      ],
      "source": [
        "tup=('sauiham', 'kasem', 'parthib')\n",
        "(fname, mname, lname)=tup\n",
        "print(fname)\n",
        "print(mname)"
      ]
    },
    {
      "cell_type": "code",
      "execution_count": null,
      "metadata": {
        "colab": {
          "base_uri": "https://localhost:8080/"
        },
        "id": "IPLgr30baEET",
        "outputId": "962b74af-4011-4423-b9dd-1cbc7e2f16fe"
      },
      "outputs": [
        {
          "name": "stdout",
          "output_type": "stream",
          "text": [
            "apple\n",
            "banana\n",
            "['cherry', 'strawberry', 'raspberry']\n"
          ]
        }
      ],
      "source": [
        "fruits = (\"apple\", \"banana\", \"cherry\", \"strawberry\", \"raspberry\")\n",
        "\n",
        "(green, yellow, *red) = fruits\n",
        "\n",
        "print(green)\n",
        "print(yellow)\n",
        "print(red)"
      ]
    },
    {
      "cell_type": "code",
      "execution_count": null,
      "metadata": {
        "colab": {
          "base_uri": "https://localhost:8080/"
        },
        "id": "sCfF8FzKaPFe",
        "outputId": "a67f36f6-ff76-4c83-ab24-50e4bfcee2c1"
      },
      "outputs": [
        {
          "name": "stdout",
          "output_type": "stream",
          "text": [
            "['mango', 'papaya', 'pineapple']\n",
            "cherry\n"
          ]
        }
      ],
      "source": [
        "fruits=(\"apple\",\"mango\",\"papaya\",\"pineapple\",\"cherry\")\n",
        "(green,*tropic,red)=fruits\n",
        "print(tropic)\n",
        "print(red)"
      ]
    },
    {
      "cell_type": "code",
      "execution_count": null,
      "metadata": {
        "colab": {
          "base_uri": "https://localhost:8080/"
        },
        "id": "rMBAIld6a1b6",
        "outputId": "449ec28d-82a3-4acb-b09c-d05d35d296fa"
      },
      "outputs": [
        {
          "name": "stdout",
          "output_type": "stream",
          "text": [
            "apple\n",
            "mango\n",
            "papaya\n",
            "pineapple\n",
            "cherry\n"
          ]
        }
      ],
      "source": [
        "fruits=(\"apple\",\"mango\",\"papaya\",\"pineapple\",\"cherry\")\n",
        "for x in fruits:\n",
        "  print(x)"
      ]
    },
    {
      "cell_type": "code",
      "execution_count": null,
      "metadata": {
        "colab": {
          "base_uri": "https://localhost:8080/"
        },
        "id": "5UktrEnfbMyy",
        "outputId": "ceac4517-379c-4a03-b45e-fa617da6a889"
      },
      "outputs": [
        {
          "output_type": "stream",
          "name": "stdout",
          "text": [
            "0\n",
            "1\n",
            "2\n",
            "3\n",
            "4\n"
          ]
        }
      ],
      "source": [
        "fruits=(\"apple\",\"mango\",\"papaya\",\"pineapple\",\"cherry\")\n",
        "i=0\n",
        "while i< len(fruits):\n",
        "  print(i)\n",
        "  i=i+1"
      ]
    },
    {
      "cell_type": "markdown",
      "source": [
        "# **SET**"
      ],
      "metadata": {
        "id": "Xp4RBwbMkwec"
      }
    },
    {
      "cell_type": "code",
      "source": [
        "#set\n",
        "#Set items are unchangeable, but you can remove items and add new items.\n",
        "s=fruits={\"apple\",\"mango\",\"papaya\",\"pineapple\",\"cherry\"}\n",
        "print(fruits)\n",
        "#Sets are unordered, so you cannot be sure in which order the items will appear.\n",
        "#Sets cannot have two items with the same value.\n",
        "#True and 1 are considered the same\n",
        "#False and 0 are considered the same value"
      ],
      "metadata": {
        "colab": {
          "base_uri": "https://localhost:8080/"
        },
        "id": "xgJ_5D-82Ir3",
        "outputId": "1f2674bc-924c-4319-8435-096d9fc9036f"
      },
      "execution_count": null,
      "outputs": [
        {
          "output_type": "stream",
          "name": "stdout",
          "text": [
            "{'mango', 'pineapple', 'apple', 'cherry', 'papaya'}\n"
          ]
        }
      ]
    },
    {
      "cell_type": "code",
      "source": [
        "\n",
        "fruits={\"apple\",\"mango\",\"papaya\",\"pineapple\",\"cherry\"}\n",
        "print(fruits)\n",
        "print(len(fruits))\n",
        "type(fruits)"
      ],
      "metadata": {
        "colab": {
          "base_uri": "https://localhost:8080/"
        },
        "id": "RSD2TXOG3qXQ",
        "outputId": "1e7b88e2-f09f-4cbd-812c-42fb86c3dd96"
      },
      "execution_count": null,
      "outputs": [
        {
          "output_type": "stream",
          "name": "stdout",
          "text": [
            "{'mango', 'pineapple', 'apple', 'cherry', 'papaya'}\n",
            "5\n"
          ]
        },
        {
          "output_type": "execute_result",
          "data": {
            "text/plain": [
              "set"
            ]
          },
          "metadata": {},
          "execution_count": 3
        }
      ]
    },
    {
      "cell_type": "code",
      "source": [
        "#List is a collection which is ordered and changeable. Allows duplicate members.\n",
        "#Tuple is a collection which is ordered and unchangeable. Allows duplicate members.\n",
        "#Set is a collection which is unordered, unchangeable*, and unindexed. No duplicate members.\n",
        "#Dictionary is a collection which is ordered** and changeable. No duplicate members."
      ],
      "metadata": {
        "id": "Vb0Va1He4rCI"
      },
      "execution_count": null,
      "outputs": []
    },
    {
      "cell_type": "code",
      "source": [
        "fruits=set((\"apple\",\"mango\",\"papaya\",\"pineapple\",\"cherry\"))\n",
        "print(fruits)"
      ],
      "metadata": {
        "colab": {
          "base_uri": "https://localhost:8080/"
        },
        "id": "2cZ5GHZ55TOI",
        "outputId": "6506c6d3-5ed9-425a-d9ef-72a0e608224f"
      },
      "execution_count": null,
      "outputs": [
        {
          "output_type": "stream",
          "name": "stdout",
          "text": [
            "{'mango', 'pineapple', 'apple', 'cherry', 'papaya'}\n"
          ]
        }
      ]
    },
    {
      "cell_type": "code",
      "source": [
        "fruits={\"apple\",\"mango\",\"papaya\",\"pineapple\",\"cherry\"}\n",
        "for x in fruits:\n",
        "  print(x)"
      ],
      "metadata": {
        "colab": {
          "base_uri": "https://localhost:8080/"
        },
        "id": "LKWVa7n45nmR",
        "outputId": "6cfba817-26c6-477e-d890-d9d3641832fa"
      },
      "execution_count": null,
      "outputs": [
        {
          "output_type": "stream",
          "name": "stdout",
          "text": [
            "mango\n",
            "pineapple\n",
            "apple\n",
            "cherry\n",
            "papaya\n"
          ]
        }
      ]
    },
    {
      "cell_type": "code",
      "source": [
        "fruits={\"apple\",\"mango\",\"papaya\",\"pineapple\",\"cherry\"}\n",
        "print(\"mango\" in fruits)"
      ],
      "metadata": {
        "colab": {
          "base_uri": "https://localhost:8080/"
        },
        "id": "oNQwixSx5--r",
        "outputId": "8f1b913c-b9ca-4def-a7bc-6fea364165ee"
      },
      "execution_count": null,
      "outputs": [
        {
          "output_type": "stream",
          "name": "stdout",
          "text": [
            "True\n"
          ]
        }
      ]
    },
    {
      "cell_type": "code",
      "source": [
        "fruits={\"apple\",\"mango\",\"papaya\",\"pineapple\",\"cherry\"}\n",
        "fruits.add(\"coconut\")\n",
        "print(fruits)"
      ],
      "metadata": {
        "colab": {
          "base_uri": "https://localhost:8080/"
        },
        "id": "Vr0Nsem774iw",
        "outputId": "32fb3afa-324f-4eba-a923-f11bddafe868"
      },
      "execution_count": null,
      "outputs": [
        {
          "output_type": "stream",
          "name": "stdout",
          "text": [
            "{'mango', 'pineapple', 'apple', 'cherry', 'papaya', 'coconut'}\n"
          ]
        }
      ]
    },
    {
      "cell_type": "code",
      "source": [
        "fruits={\"apple\",\"mango\",\"papaya\",\"pineapple\",\"cherry\"}\n",
        "#tup=('sauiham', 'kasem', 'parthib')\n",
        "#The object in the update() method does not have to be a set, it can be any iterable object (tuples, lists, dictionaries etc.).\n",
        "tup=['sauiham', 'kasem', 'parthib']\n",
        "fruits.update(tup)\n",
        "print(fruits)"
      ],
      "metadata": {
        "colab": {
          "base_uri": "https://localhost:8080/"
        },
        "id": "gntoXj3b8BdX",
        "outputId": "45289171-7b51-4a61-aa7f-c3d338a25320"
      },
      "execution_count": null,
      "outputs": [
        {
          "output_type": "stream",
          "name": "stdout",
          "text": [
            "{'sauiham', 'mango', 'pineapple', 'apple', 'kasem', 'cherry', 'papaya', 'parthib'}\n"
          ]
        }
      ]
    },
    {
      "cell_type": "code",
      "source": [
        "fruits={\"apple\",\"mango\",\"papaya\",\"pineapple\",\"cherry\"}\n",
        "fruits.remove('apple')\n",
        "print(fruits)\n",
        "fruits.pop()\n",
        "fruits.clear()\n",
        "print(fruits)"
      ],
      "metadata": {
        "colab": {
          "base_uri": "https://localhost:8080/"
        },
        "id": "0F0gtpV29TSN",
        "outputId": "6a84f70f-994a-4f9d-d2c6-a474584f4fd7"
      },
      "execution_count": null,
      "outputs": [
        {
          "output_type": "stream",
          "name": "stdout",
          "text": [
            "{'papaya', 'mango', 'pineapple', 'cherry'}\n",
            "set()\n"
          ]
        }
      ]
    },
    {
      "cell_type": "code",
      "source": [
        "fruits={\"apple\",\"mango\",\"papaya\",\"pineapple\",\"cherry\"}\n",
        "tup={'sauiham', 'kasem', 'parthib'}\n",
        "fruits.union(tup)\n",
        "print(fruits)\n",
        "new=fruits|tup\n",
        "print(new)\n",
        "fruits.intersection_update(tup)\n",
        "print(fruits)"
      ],
      "metadata": {
        "colab": {
          "base_uri": "https://localhost:8080/"
        },
        "id": "QgjGeQXx-4VS",
        "outputId": "db973637-f1e7-4fe1-fd48-f9588ee60ad0"
      },
      "execution_count": null,
      "outputs": [
        {
          "output_type": "stream",
          "name": "stdout",
          "text": [
            "{'papaya', 'mango', 'pineapple', 'apple', 'cherry'}\n",
            "{'papaya', 'sauiham', 'mango', 'kasem', 'pineapple', 'parthib', 'apple', 'cherry'}\n",
            "set()\n"
          ]
        }
      ]
    },
    {
      "cell_type": "code",
      "source": [
        "#You can join multiple sets by using union\n",
        "fruits={\"apple\",\"mango\",\"papaya\",\"pineapple\",\"cherry\"}\n",
        "name={'sauiham', 'kasem', 'parthib'}\n",
        "vegies={\"pumpkin\",\"cucumber\",\"potato\",\"tomato\"}\n",
        "total=fruits.union(name,vegies)\n",
        "print(total)\n",
        "tot_1=fruits|name|vegies\n",
        "print(tot_1)\n",
        "#use of updates()\n",
        "print(fruits.update(name))"
      ],
      "metadata": {
        "colab": {
          "base_uri": "https://localhost:8080/"
        },
        "id": "mtjXyHmvjWhO",
        "outputId": "d9ffdc0a-bac7-41b4-f043-c0e81539d18d"
      },
      "execution_count": null,
      "outputs": [
        {
          "output_type": "stream",
          "name": "stdout",
          "text": [
            "{'papaya', 'mango', 'pineapple', 'parthib', 'pumpkin', 'tomato', 'cherry', 'cucumber', 'kasem', 'potato', 'apple', 'sauiham'}\n",
            "{'papaya', 'mango', 'pineapple', 'parthib', 'pumpkin', 'tomato', 'cherry', 'cucumber', 'kasem', 'potato', 'apple', 'sauiham'}\n",
            "None\n"
          ]
        }
      ]
    },
    {
      "cell_type": "code",
      "source": [
        "fruits={\"apple\",\"mango\",\"papaya\",\"pineapple\",\"cherry\"}\n",
        "name={'sauiham', 'kasem', 'parthib'}\n",
        "fruits.update(name)\n",
        "print(fruits)"
      ],
      "metadata": {
        "colab": {
          "base_uri": "https://localhost:8080/"
        },
        "id": "jrJivuS2m8Ht",
        "outputId": "40750b22-5203-4f3b-8448-c1de8bcfc975"
      },
      "execution_count": null,
      "outputs": [
        {
          "output_type": "stream",
          "name": "stdout",
          "text": [
            "{'papaya', 'sauiham', 'mango', 'kasem', 'pineapple', 'parthib', 'apple', 'cherry'}\n"
          ]
        }
      ]
    },
    {
      "cell_type": "code",
      "source": [
        "# to print the common values within multiple sets you can use intersection() and use &, but intersection() can be used in different data types whereas & function can't\n",
        "# common jinis print korte intersection kintu common element gulo bad diye print korte hole symmetric_difference_update\n",
        "fruits={\"apple\",\"mango\",\"papaya\",\"pineapple\",\"cherry\"}\n",
        "name={'sauiham', 'kasem', 'parthib',\"mango\"}\n",
        "#fruits.intersection_update(name)\n",
        "#print(fruits)\n",
        "fruits.symmetric_difference_update(name)\n",
        "print(fruits)\n",
        "nnn=fruits.difference(name)\n",
        "print(nnn)\n",
        "# ekta mojar bepar ache seta holo difference_update() use korle notun kore arekta set e return pete hoy na rather eta existing set kei modify kore\n"
      ],
      "metadata": {
        "colab": {
          "base_uri": "https://localhost:8080/"
        },
        "id": "2574qWjbnun5",
        "outputId": "0f5a160d-ff4b-454c-da58-86bcb7344474"
      },
      "execution_count": null,
      "outputs": [
        {
          "output_type": "stream",
          "name": "stdout",
          "text": [
            "{'papaya', 'sauiham', 'kasem', 'pineapple', 'parthib', 'apple', 'cherry'}\n",
            "{'papaya', 'apple', 'cherry', 'pineapple'}\n"
          ]
        }
      ]
    },
    {
      "cell_type": "markdown",
      "source": [
        "# Dictionaries"
      ],
      "metadata": {
        "id": "s0NlKhn9s7cW"
      }
    },
    {
      "cell_type": "code",
      "source": [
        "myname={\"fname\":\"saiham\",\"mname\":\"kasem\",\"surname\":\"parthib\"}\n",
        "print(myname)\n",
        "print(myname[\"fname\"])\n",
        "print(len(myname))\n",
        "print(type(myname))\n",
        "#dict kintu changable ebong duplicate ney na\n"
      ],
      "metadata": {
        "colab": {
          "base_uri": "https://localhost:8080/"
        },
        "id": "3-wifc0_s-73",
        "outputId": "b1ce0335-14bc-4ed3-822e-78876ba5fb09"
      },
      "execution_count": null,
      "outputs": [
        {
          "output_type": "stream",
          "name": "stdout",
          "text": [
            "{'fname': 'saiham', 'mname': 'kasem', 'surname': 'parthib'}\n",
            "saiham\n",
            "3\n",
            "<class 'dict'>\n"
          ]
        }
      ]
    },
    {
      "cell_type": "code",
      "source": [
        "#dict() method use kore dictionary banano jay\n",
        "hello=dict(vegi=[\"potato\",\"tomato\"], quant=300,taste=\"good\")\n",
        "print(hello)\n",
        "x=hello.keys()\n",
        "print(x)\n",
        "x1=hello.values()\n",
        "print(x1)\n",
        "hello[\"color\"]=\"red\"\n",
        "print(hello)\n",
        "hello[\"vegi\"]=[\"potato\",\"tomato\",\"carrot\"]\n",
        "print(hello)\n",
        "if \"vegi\" in hello:\n",
        "  print(\"i found that\")"
      ],
      "metadata": {
        "colab": {
          "base_uri": "https://localhost:8080/"
        },
        "id": "y27_lxSQuUs2",
        "outputId": "9289663b-fd87-4a9e-de6e-8579a2ff0dee"
      },
      "execution_count": null,
      "outputs": [
        {
          "output_type": "stream",
          "name": "stdout",
          "text": [
            "{'vegi': ['potato', 'tomato'], 'quant': 300, 'taste': 'good'}\n",
            "dict_keys(['vegi', 'quant', 'taste'])\n",
            "dict_values([['potato', 'tomato'], 300, 'good'])\n",
            "{'vegi': ['potato', 'tomato'], 'quant': 300, 'taste': 'good', 'color': 'red'}\n",
            "{'vegi': ['potato', 'tomato', 'carrot'], 'quant': 300, 'taste': 'good', 'color': 'red'}\n"
          ]
        }
      ]
    }
  ],
  "metadata": {
    "colab": {
      "provenance": [],
      "authorship_tag": "ABX9TyNaUD3aTaJopsfYxRUPrv9y",
      "include_colab_link": true
    },
    "kernelspec": {
      "display_name": "Python 3",
      "name": "python3"
    },
    "language_info": {
      "name": "python"
    }
  },
  "nbformat": 4,
  "nbformat_minor": 0
}